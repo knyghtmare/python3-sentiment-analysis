{
 "cells": [
  {
   "cell_type": "markdown",
   "id": "3d4ba001-3af4-4438-8b84-c48a93ce99e4",
   "metadata": {},
   "source": [
    "# Sentiment Analysis using Python3 and Machine Learning"
   ]
  },
  {
   "cell_type": "code",
   "execution_count": null,
   "id": "9ee17fa9-9d06-4a53-a26f-f22fdfc76886",
   "metadata": {},
   "outputs": [],
   "source": []
  }
 ],
 "metadata": {
  "kernelspec": {
   "display_name": "Python 3 (ipykernel)",
   "language": "python",
   "name": "python3"
  },
  "language_info": {
   "codemirror_mode": {
    "name": "ipython",
    "version": 3
   },
   "file_extension": ".py",
   "mimetype": "text/x-python",
   "name": "python",
   "nbconvert_exporter": "python",
   "pygments_lexer": "ipython3",
   "version": "3.9.6"
  }
 },
 "nbformat": 4,
 "nbformat_minor": 5
}
