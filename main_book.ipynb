{
 "cells": [
  {
   "cell_type": "markdown",
   "id": "3d4ba001-3af4-4438-8b84-c48a93ce99e4",
   "metadata": {},
   "source": [
    "# Sentiment Analysis using Python3 and Machine Learning"
   ]
  },
  {
   "cell_type": "markdown",
   "id": "008b59a6-6b71-4653-aa63-8d5db91802c4",
   "metadata": {},
   "source": [
    "## Problem:\n",
    "\n",
    "Companies are eager to know the sentiment of customers towards the products they sell or the services they provide, whether they are positive or negative."
   ]
  },
  {
   "cell_type": "markdown",
   "id": "184a3df5-1f5f-4b94-a610-66b2dea26c32",
   "metadata": {},
   "source": [
    "Python sentiment analysis is a methodology for analyzing a string of text to discover the mood hidden within it. It accomplishes this by an amalgamation of machine learning and natural language processing (NLP). Sentiment analysis allows you to examine the feelings expressed in a piece of text."
   ]
  },
  {
   "cell_type": "markdown",
   "id": "3e1c37db-5326-4fc8-9886-aaac08801821",
   "metadata": {},
   "source": [
    "Technology Used in This Project:\n",
    "- Python3\n",
    "- Pandas\n",
    "- Matplotlib\n",
    "- Tensorflow"
   ]
  },
  {
   "cell_type": "markdown",
   "id": "aab0c323-5293-48fb-a661-402ff742f8bd",
   "metadata": {},
   "source": [
    "## Solution"
   ]
  },
  {
   "cell_type": "markdown",
   "id": "51174a04-ede5-4126-bfd6-5c6eb340296b",
   "metadata": {
    "jp-MarkdownHeadingCollapsed": true,
    "tags": []
   },
   "source": [
    "### Step 1: Data Wrangling and Processing"
   ]
  },
  {
   "cell_type": "code",
   "execution_count": 25,
   "id": "7deb9540-19f4-4e7a-a916-f86f2aae53b6",
   "metadata": {},
   "outputs": [],
   "source": [
    "# import relevant modules\n",
    "import pandas as pd\n",
    "import matplotlib.pyplot as plt\n",
    "from tensorflow.keras.preprocessing.text import Tokenizer\n",
    "from tensorflow.keras.preprocessing.sequence import pad_sequences\n",
    "\n",
    "from tensorflow.keras.models import Sequential\n",
    "from tensorflow.keras.layers import LSTM,Dense, Dropout, SpatialDropout1D\n",
    "from tensorflow.keras.layers import Embedding"
   ]
  },
  {
   "cell_type": "code",
   "execution_count": 2,
   "id": "80ea94d7-bc4d-41ad-9bae-98fb98e10ed3",
   "metadata": {},
   "outputs": [],
   "source": [
    "# create dataframe from data\n",
    "data_frame = pd.read_csv('data_sets/Tweets.csv')"
   ]
  },
  {
   "cell_type": "code",
   "execution_count": 3,
   "id": "5a73a05e-020f-401b-88e8-91e76f88eabf",
   "metadata": {},
   "outputs": [
    {
     "data": {
      "text/html": [
       "<div>\n",
       "<style scoped>\n",
       "    .dataframe tbody tr th:only-of-type {\n",
       "        vertical-align: middle;\n",
       "    }\n",
       "\n",
       "    .dataframe tbody tr th {\n",
       "        vertical-align: top;\n",
       "    }\n",
       "\n",
       "    .dataframe thead th {\n",
       "        text-align: right;\n",
       "    }\n",
       "</style>\n",
       "<table border=\"1\" class=\"dataframe\">\n",
       "  <thead>\n",
       "    <tr style=\"text-align: right;\">\n",
       "      <th></th>\n",
       "      <th>tweet_id</th>\n",
       "      <th>airline_sentiment</th>\n",
       "      <th>airline_sentiment_confidence</th>\n",
       "      <th>negativereason</th>\n",
       "      <th>negativereason_confidence</th>\n",
       "      <th>airline</th>\n",
       "      <th>airline_sentiment_gold</th>\n",
       "      <th>name</th>\n",
       "      <th>negativereason_gold</th>\n",
       "      <th>retweet_count</th>\n",
       "      <th>text</th>\n",
       "      <th>tweet_coord</th>\n",
       "      <th>tweet_created</th>\n",
       "      <th>tweet_location</th>\n",
       "      <th>user_timezone</th>\n",
       "    </tr>\n",
       "  </thead>\n",
       "  <tbody>\n",
       "    <tr>\n",
       "      <th>0</th>\n",
       "      <td>570306133677760513</td>\n",
       "      <td>neutral</td>\n",
       "      <td>1.0000</td>\n",
       "      <td>NaN</td>\n",
       "      <td>NaN</td>\n",
       "      <td>Virgin America</td>\n",
       "      <td>NaN</td>\n",
       "      <td>cairdin</td>\n",
       "      <td>NaN</td>\n",
       "      <td>0</td>\n",
       "      <td>@VirginAmerica What @dhepburn said.</td>\n",
       "      <td>NaN</td>\n",
       "      <td>2015-02-24 11:35:52 -0800</td>\n",
       "      <td>NaN</td>\n",
       "      <td>Eastern Time (US &amp; Canada)</td>\n",
       "    </tr>\n",
       "    <tr>\n",
       "      <th>1</th>\n",
       "      <td>570301130888122368</td>\n",
       "      <td>positive</td>\n",
       "      <td>0.3486</td>\n",
       "      <td>NaN</td>\n",
       "      <td>0.0000</td>\n",
       "      <td>Virgin America</td>\n",
       "      <td>NaN</td>\n",
       "      <td>jnardino</td>\n",
       "      <td>NaN</td>\n",
       "      <td>0</td>\n",
       "      <td>@VirginAmerica plus you've added commercials t...</td>\n",
       "      <td>NaN</td>\n",
       "      <td>2015-02-24 11:15:59 -0800</td>\n",
       "      <td>NaN</td>\n",
       "      <td>Pacific Time (US &amp; Canada)</td>\n",
       "    </tr>\n",
       "    <tr>\n",
       "      <th>2</th>\n",
       "      <td>570301083672813571</td>\n",
       "      <td>neutral</td>\n",
       "      <td>0.6837</td>\n",
       "      <td>NaN</td>\n",
       "      <td>NaN</td>\n",
       "      <td>Virgin America</td>\n",
       "      <td>NaN</td>\n",
       "      <td>yvonnalynn</td>\n",
       "      <td>NaN</td>\n",
       "      <td>0</td>\n",
       "      <td>@VirginAmerica I didn't today... Must mean I n...</td>\n",
       "      <td>NaN</td>\n",
       "      <td>2015-02-24 11:15:48 -0800</td>\n",
       "      <td>Lets Play</td>\n",
       "      <td>Central Time (US &amp; Canada)</td>\n",
       "    </tr>\n",
       "    <tr>\n",
       "      <th>3</th>\n",
       "      <td>570301031407624196</td>\n",
       "      <td>negative</td>\n",
       "      <td>1.0000</td>\n",
       "      <td>Bad Flight</td>\n",
       "      <td>0.7033</td>\n",
       "      <td>Virgin America</td>\n",
       "      <td>NaN</td>\n",
       "      <td>jnardino</td>\n",
       "      <td>NaN</td>\n",
       "      <td>0</td>\n",
       "      <td>@VirginAmerica it's really aggressive to blast...</td>\n",
       "      <td>NaN</td>\n",
       "      <td>2015-02-24 11:15:36 -0800</td>\n",
       "      <td>NaN</td>\n",
       "      <td>Pacific Time (US &amp; Canada)</td>\n",
       "    </tr>\n",
       "    <tr>\n",
       "      <th>4</th>\n",
       "      <td>570300817074462722</td>\n",
       "      <td>negative</td>\n",
       "      <td>1.0000</td>\n",
       "      <td>Can't Tell</td>\n",
       "      <td>1.0000</td>\n",
       "      <td>Virgin America</td>\n",
       "      <td>NaN</td>\n",
       "      <td>jnardino</td>\n",
       "      <td>NaN</td>\n",
       "      <td>0</td>\n",
       "      <td>@VirginAmerica and it's a really big bad thing...</td>\n",
       "      <td>NaN</td>\n",
       "      <td>2015-02-24 11:14:45 -0800</td>\n",
       "      <td>NaN</td>\n",
       "      <td>Pacific Time (US &amp; Canada)</td>\n",
       "    </tr>\n",
       "  </tbody>\n",
       "</table>\n",
       "</div>"
      ],
      "text/plain": [
       "             tweet_id airline_sentiment  airline_sentiment_confidence  \\\n",
       "0  570306133677760513           neutral                        1.0000   \n",
       "1  570301130888122368          positive                        0.3486   \n",
       "2  570301083672813571           neutral                        0.6837   \n",
       "3  570301031407624196          negative                        1.0000   \n",
       "4  570300817074462722          negative                        1.0000   \n",
       "\n",
       "  negativereason  negativereason_confidence         airline  \\\n",
       "0            NaN                        NaN  Virgin America   \n",
       "1            NaN                     0.0000  Virgin America   \n",
       "2            NaN                        NaN  Virgin America   \n",
       "3     Bad Flight                     0.7033  Virgin America   \n",
       "4     Can't Tell                     1.0000  Virgin America   \n",
       "\n",
       "  airline_sentiment_gold        name negativereason_gold  retweet_count  \\\n",
       "0                    NaN     cairdin                 NaN              0   \n",
       "1                    NaN    jnardino                 NaN              0   \n",
       "2                    NaN  yvonnalynn                 NaN              0   \n",
       "3                    NaN    jnardino                 NaN              0   \n",
       "4                    NaN    jnardino                 NaN              0   \n",
       "\n",
       "                                                text tweet_coord  \\\n",
       "0                @VirginAmerica What @dhepburn said.         NaN   \n",
       "1  @VirginAmerica plus you've added commercials t...         NaN   \n",
       "2  @VirginAmerica I didn't today... Must mean I n...         NaN   \n",
       "3  @VirginAmerica it's really aggressive to blast...         NaN   \n",
       "4  @VirginAmerica and it's a really big bad thing...         NaN   \n",
       "\n",
       "               tweet_created tweet_location               user_timezone  \n",
       "0  2015-02-24 11:35:52 -0800            NaN  Eastern Time (US & Canada)  \n",
       "1  2015-02-24 11:15:59 -0800            NaN  Pacific Time (US & Canada)  \n",
       "2  2015-02-24 11:15:48 -0800      Lets Play  Central Time (US & Canada)  \n",
       "3  2015-02-24 11:15:36 -0800            NaN  Pacific Time (US & Canada)  \n",
       "4  2015-02-24 11:14:45 -0800            NaN  Pacific Time (US & Canada)  "
      ]
     },
     "execution_count": 3,
     "metadata": {},
     "output_type": "execute_result"
    }
   ],
   "source": [
    "data_frame.head()"
   ]
  },
  {
   "cell_type": "markdown",
   "id": "efb05e95-77ef-469c-abb1-cd4ca1716818",
   "metadata": {},
   "source": [
    "Only the text and sentiment colums are required. Rest of the data is irrelevant to this project."
   ]
  },
  {
   "cell_type": "code",
   "execution_count": 4,
   "id": "4fb3d187-e19b-446c-8dc2-492a05c052f6",
   "metadata": {},
   "outputs": [],
   "source": [
    "reviewed_df = data_frame[['text','airline_sentiment']]"
   ]
  },
  {
   "cell_type": "code",
   "execution_count": 5,
   "id": "f80c644d-b2ce-43df-ac13-a8f315d9de86",
   "metadata": {},
   "outputs": [
    {
     "data": {
      "text/plain": [
       "(14640, 2)"
      ]
     },
     "execution_count": 5,
     "metadata": {},
     "output_type": "execute_result"
    }
   ],
   "source": [
    "reviewed_df.shape"
   ]
  },
  {
   "cell_type": "code",
   "execution_count": 7,
   "id": "def8fe26-800e-4984-b2b3-6b76de26c4e0",
   "metadata": {},
   "outputs": [
    {
     "data": {
      "text/html": [
       "<div>\n",
       "<style scoped>\n",
       "    .dataframe tbody tr th:only-of-type {\n",
       "        vertical-align: middle;\n",
       "    }\n",
       "\n",
       "    .dataframe tbody tr th {\n",
       "        vertical-align: top;\n",
       "    }\n",
       "\n",
       "    .dataframe thead th {\n",
       "        text-align: right;\n",
       "    }\n",
       "</style>\n",
       "<table border=\"1\" class=\"dataframe\">\n",
       "  <thead>\n",
       "    <tr style=\"text-align: right;\">\n",
       "      <th></th>\n",
       "      <th>text</th>\n",
       "      <th>airline_sentiment</th>\n",
       "    </tr>\n",
       "  </thead>\n",
       "  <tbody>\n",
       "    <tr>\n",
       "      <th>0</th>\n",
       "      <td>@VirginAmerica What @dhepburn said.</td>\n",
       "      <td>neutral</td>\n",
       "    </tr>\n",
       "    <tr>\n",
       "      <th>1</th>\n",
       "      <td>@VirginAmerica plus you've added commercials t...</td>\n",
       "      <td>positive</td>\n",
       "    </tr>\n",
       "    <tr>\n",
       "      <th>2</th>\n",
       "      <td>@VirginAmerica I didn't today... Must mean I n...</td>\n",
       "      <td>neutral</td>\n",
       "    </tr>\n",
       "    <tr>\n",
       "      <th>3</th>\n",
       "      <td>@VirginAmerica it's really aggressive to blast...</td>\n",
       "      <td>negative</td>\n",
       "    </tr>\n",
       "    <tr>\n",
       "      <th>4</th>\n",
       "      <td>@VirginAmerica and it's a really big bad thing...</td>\n",
       "      <td>negative</td>\n",
       "    </tr>\n",
       "  </tbody>\n",
       "</table>\n",
       "</div>"
      ],
      "text/plain": [
       "                                                text airline_sentiment\n",
       "0                @VirginAmerica What @dhepburn said.           neutral\n",
       "1  @VirginAmerica plus you've added commercials t...          positive\n",
       "2  @VirginAmerica I didn't today... Must mean I n...           neutral\n",
       "3  @VirginAmerica it's really aggressive to blast...          negative\n",
       "4  @VirginAmerica and it's a really big bad thing...          negative"
      ]
     },
     "execution_count": 7,
     "metadata": {},
     "output_type": "execute_result"
    }
   ],
   "source": [
    "# preview the processed data to check\n",
    "reviewed_df.head(5)"
   ]
  },
  {
   "cell_type": "code",
   "execution_count": 9,
   "id": "a80412cb-0062-43c7-8375-f878d66896fa",
   "metadata": {},
   "outputs": [
    {
     "data": {
      "text/plain": [
       "Index(['tweet_id', 'airline_sentiment', 'airline_sentiment_confidence',\n",
       "       'negativereason', 'negativereason_confidence', 'airline',\n",
       "       'airline_sentiment_gold', 'name', 'negativereason_gold',\n",
       "       'retweet_count', 'text', 'tweet_coord', 'tweet_created',\n",
       "       'tweet_location', 'user_timezone'],\n",
       "      dtype='object')"
      ]
     },
     "execution_count": 9,
     "metadata": {},
     "output_type": "execute_result"
    }
   ],
   "source": [
    "# check the columns present\n",
    "data_frame.columns"
   ]
  },
  {
   "cell_type": "markdown",
   "id": "ac3d938c-f95a-4dc9-bd44-d1f91d3f640b",
   "metadata": {},
   "source": [
    "Neutral sentiments are not required for this project. We shall omit them."
   ]
  },
  {
   "cell_type": "code",
   "execution_count": 10,
   "id": "c5fdb4bb-329d-4ffe-ba87-13bfcc985d89",
   "metadata": {},
   "outputs": [],
   "source": [
    "reviewed_df = reviewed_df[reviewed_df['airline_sentiment'] != 'neutral']"
   ]
  },
  {
   "cell_type": "code",
   "execution_count": 11,
   "id": "0ef8e769-e7ae-4a86-b1aa-8bcafd1c6072",
   "metadata": {},
   "outputs": [
    {
     "data": {
      "text/plain": [
       "(11541, 2)"
      ]
     },
     "execution_count": 11,
     "metadata": {},
     "output_type": "execute_result"
    }
   ],
   "source": [
    "# check the shape\n",
    "reviewed_df.shape"
   ]
  },
  {
   "cell_type": "code",
   "execution_count": 12,
   "id": "b5d83748-0ddc-4a27-bcde-43c612ccf4bb",
   "metadata": {},
   "outputs": [
    {
     "data": {
      "text/html": [
       "<div>\n",
       "<style scoped>\n",
       "    .dataframe tbody tr th:only-of-type {\n",
       "        vertical-align: middle;\n",
       "    }\n",
       "\n",
       "    .dataframe tbody tr th {\n",
       "        vertical-align: top;\n",
       "    }\n",
       "\n",
       "    .dataframe thead th {\n",
       "        text-align: right;\n",
       "    }\n",
       "</style>\n",
       "<table border=\"1\" class=\"dataframe\">\n",
       "  <thead>\n",
       "    <tr style=\"text-align: right;\">\n",
       "      <th></th>\n",
       "      <th>text</th>\n",
       "      <th>airline_sentiment</th>\n",
       "    </tr>\n",
       "  </thead>\n",
       "  <tbody>\n",
       "    <tr>\n",
       "      <th>1</th>\n",
       "      <td>@VirginAmerica plus you've added commercials t...</td>\n",
       "      <td>positive</td>\n",
       "    </tr>\n",
       "    <tr>\n",
       "      <th>3</th>\n",
       "      <td>@VirginAmerica it's really aggressive to blast...</td>\n",
       "      <td>negative</td>\n",
       "    </tr>\n",
       "    <tr>\n",
       "      <th>4</th>\n",
       "      <td>@VirginAmerica and it's a really big bad thing...</td>\n",
       "      <td>negative</td>\n",
       "    </tr>\n",
       "    <tr>\n",
       "      <th>5</th>\n",
       "      <td>@VirginAmerica seriously would pay $30 a fligh...</td>\n",
       "      <td>negative</td>\n",
       "    </tr>\n",
       "    <tr>\n",
       "      <th>6</th>\n",
       "      <td>@VirginAmerica yes, nearly every time I fly VX...</td>\n",
       "      <td>positive</td>\n",
       "    </tr>\n",
       "  </tbody>\n",
       "</table>\n",
       "</div>"
      ],
      "text/plain": [
       "                                                text airline_sentiment\n",
       "1  @VirginAmerica plus you've added commercials t...          positive\n",
       "3  @VirginAmerica it's really aggressive to blast...          negative\n",
       "4  @VirginAmerica and it's a really big bad thing...          negative\n",
       "5  @VirginAmerica seriously would pay $30 a fligh...          negative\n",
       "6  @VirginAmerica yes, nearly every time I fly VX...          positive"
      ]
     },
     "execution_count": 12,
     "metadata": {},
     "output_type": "execute_result"
    }
   ],
   "source": [
    "# preview again\n",
    "reviewed_df.head(5)"
   ]
  },
  {
   "cell_type": "code",
   "execution_count": 13,
   "id": "b698ec07-4682-44f1-a4ea-b85e95019d5a",
   "metadata": {},
   "outputs": [
    {
     "data": {
      "text/plain": [
       "negative    9178\n",
       "positive    2363\n",
       "Name: airline_sentiment, dtype: int64"
      ]
     },
     "execution_count": 13,
     "metadata": {},
     "output_type": "execute_result"
    }
   ],
   "source": [
    "# check the values of airline sentiment column\n",
    "reviewed_df['airline_sentiment'].value_counts()"
   ]
  },
  {
   "cell_type": "markdown",
   "id": "424a4b75-1ca1-4eac-aaef-1e30410ece47",
   "metadata": {},
   "source": [
    "The labels for this dataset are categorical. Machines interpret only numeric data. Thus, we shall convert the categorical values to numeric ones using the `factorize()` method. This returns an array of numeric values and an index of categories."
   ]
  },
  {
   "cell_type": "code",
   "execution_count": 14,
   "id": "869acd12-56aa-4664-a9ce-7541d00a399d",
   "metadata": {},
   "outputs": [],
   "source": [
    "sentiment_label = reviewed_df.airline_sentiment.factorize()"
   ]
  },
  {
   "cell_type": "code",
   "execution_count": 15,
   "id": "09b8aa98-86a7-4a00-b3e3-0fa7dc7956b4",
   "metadata": {},
   "outputs": [
    {
     "data": {
      "text/plain": [
       "(array([0, 1, 1, ..., 0, 1, 1]),\n",
       " Index(['positive', 'negative'], dtype='object'))"
      ]
     },
     "execution_count": 15,
     "metadata": {},
     "output_type": "execute_result"
    }
   ],
   "source": [
    "# preview what has been done\n",
    "sentiment_label"
   ]
  },
  {
   "cell_type": "markdown",
   "id": "d3739491-d58b-4988-8e0e-83bea6866b99",
   "metadata": {},
   "source": [
    "For clarification purposes, it must be stated that:\n",
    "- `0` maps to postive sentiment\n",
    "- `1` maps to negative sentiment"
   ]
  },
  {
   "cell_type": "markdown",
   "id": "d27ba3e4-772e-4746-a398-1d172aac39c0",
   "metadata": {},
   "source": [
    "The data must be transformed into a form which the machine learning model understands.\n",
    "The text needs to be converted into an array of vector embeddings. Word embeddings are a beautiful way of representing the relationship between the words in the text."
   ]
  },
  {
   "cell_type": "code",
   "execution_count": 17,
   "id": "62b16404-3b60-4ee9-bbf5-ee183d931c87",
   "metadata": {},
   "outputs": [],
   "source": [
    "tweets = reviewed_df.text.values"
   ]
  },
  {
   "cell_type": "code",
   "execution_count": 18,
   "id": "5130ec1e-d754-4317-a186-6d0eec00a48a",
   "metadata": {},
   "outputs": [
    {
     "data": {
      "text/plain": [
       "array([\"@VirginAmerica plus you've added commercials to the experience... tacky.\",\n",
       "       '@VirginAmerica it\\'s really aggressive to blast obnoxious \"entertainment\" in your guests\\' faces &amp; they have little recourse',\n",
       "       \"@VirginAmerica and it's a really big bad thing about it\", ...,\n",
       "       '@AmericanAir thank you we got on a different flight to Chicago.',\n",
       "       \"@AmericanAir leaving over 20 minutes Late Flight. No warnings or communication until we were 15 minutes Late Flight. That's called shitty customer svc\",\n",
       "       \"@AmericanAir you have my money, you change my flight, and don't answer your phones! Any other suggestions so I can make my commitment??\"],\n",
       "      dtype=object)"
      ]
     },
     "execution_count": 18,
     "metadata": {},
     "output_type": "execute_result"
    }
   ],
   "source": [
    "tweets"
   ]
  },
  {
   "cell_type": "code",
   "execution_count": 19,
   "id": "1dc676a5-5814-43a5-9403-f1ab2807c008",
   "metadata": {},
   "outputs": [],
   "source": [
    "#instantiate the tokenizer\n",
    "\n",
    "tokenizer = Tokenizer(num_words=5000)"
   ]
  },
  {
   "cell_type": "code",
   "execution_count": 20,
   "id": "9ef8d1d4-df32-4f39-9b0f-1594c40d80cb",
   "metadata": {},
   "outputs": [],
   "source": [
    "tokenizer.fit_on_texts(tweets)"
   ]
  },
  {
   "cell_type": "code",
   "execution_count": 22,
   "id": "89036b98-cf5c-452c-93ed-ac3088a48533",
   "metadata": {},
   "outputs": [],
   "source": [
    "# replace words with assigned numbers\n",
    "encoded_docs = tokenizer.texts_to_sequences(tweets)"
   ]
  },
  {
   "cell_type": "code",
   "execution_count": 24,
   "id": "bd69b12d-e39b-4f4b-8e1d-8d89e5c4bc5b",
   "metadata": {},
   "outputs": [],
   "source": [
    "# ensure all sentences are of equal length\n",
    "padded_sequence = pad_sequences(encoded_docs, maxlen=200)"
   ]
  },
  {
   "cell_type": "markdown",
   "id": "897532a8-bb99-48e1-ac07-6a18855a25dd",
   "metadata": {},
   "source": [
    "### Step 2: Code the Text Classifier"
   ]
  },
  {
   "cell_type": "markdown",
   "id": "9ed27e42-0191-4137-93c5-49674909d18d",
   "metadata": {},
   "source": [
    "Long Short Term Memory Networks (LSTM) layers have been used in this machine learning model. It is a variant of Recurrent Neural Networks. Recurrent Neural Networks are usually used with sequential data such as text and audio. Usually, while computing an embedding matrix, the meaning of every word and its calculations (which are called hidden states) are stored."
   ]
  },
  {
   "cell_type": "code",
   "execution_count": 44,
   "id": "a11c7cd3-3695-40b9-aca3-efb88e70f105",
   "metadata": {},
   "outputs": [
    {
     "name": "stdout",
     "output_type": "stream",
     "text": [
      "Model: \"sequential_18\"\n",
      "_________________________________________________________________\n",
      "Layer (type)                 Output Shape              Param #   \n",
      "=================================================================\n",
      "embedding_17 (Embedding)     (None, 200, 32)           423488    \n",
      "_________________________________________________________________\n",
      "spatial_dropout1d_17 (Spatia (None, 200, 32)           0         \n",
      "_________________________________________________________________\n",
      "lstm_17 (LSTM)               (None, 50)                16600     \n",
      "_________________________________________________________________\n",
      "dropout_17 (Dropout)         (None, 50)                0         \n",
      "_________________________________________________________________\n",
      "dense_17 (Dense)             (None, 1)                 51        \n",
      "=================================================================\n",
      "Total params: 440,139\n",
      "Trainable params: 440,139\n",
      "Non-trainable params: 0\n",
      "_________________________________________________________________\n",
      "None\n"
     ]
    }
   ],
   "source": [
    "# define the vector length\n",
    "embedding_vector_length = 32\n",
    "# define the vocab_size var\n",
    "vocab_size=13234\n",
    "\n",
    "# instiate the sequential class\n",
    "model = Sequential()\n",
    "model.add(Embedding(vocab_size, embedding_vector_length, input_length=200))\n",
    "model.add(SpatialDropout1D(0.25))\n",
    "model.add(LSTM(50, dropout=0.5, recurrent_dropout=0.5))\n",
    "model.add(Dropout(0.2))\n",
    "model.add(Dense(1, activation='sigmoid'))\n",
    "# compile it\n",
    "model.compile(loss='binary_crossentropy',optimizer='adam', metrics=['accuracy'])\n",
    "print(model.summary())"
   ]
  },
  {
   "cell_type": "markdown",
   "id": "59d0efa9-e436-4150-ab1e-8716d6bf8c20",
   "metadata": {},
   "source": [
    "### Step 3: Train the sentiment analysis model"
   ]
  },
  {
   "cell_type": "markdown",
   "id": "b9571b19-a382-405e-8dba-97ecd4d8370f",
   "metadata": {},
   "source": [
    "Train the sentiment analysis model for 5 epochs on the whole dataset with a batch size of 32 and a validation split of 20%."
   ]
  },
  {
   "cell_type": "code",
   "execution_count": 45,
   "id": "52c8c74b-1da8-4007-b605-b15297796167",
   "metadata": {},
   "outputs": [
    {
     "name": "stderr",
     "output_type": "stream",
     "text": [
      "2021-10-02 18:22:49.724531: I tensorflow/compiler/mlir/mlir_graph_optimization_pass.cc:185] None of the MLIR Optimization Passes are enabled (registered 2)\n"
     ]
    },
    {
     "name": "stdout",
     "output_type": "stream",
     "text": [
      "Epoch 1/5\n",
      "289/289 [==============================] - 58s 191ms/step - loss: 0.3919 - accuracy: 0.8355 - val_loss: 0.2089 - val_accuracy: 0.9225\n",
      "Epoch 2/5\n",
      "289/289 [==============================] - 54s 185ms/step - loss: 0.2150 - accuracy: 0.9163 - val_loss: 0.1669 - val_accuracy: 0.9415\n",
      "Epoch 3/5\n",
      "289/289 [==============================] - 53s 185ms/step - loss: 0.1654 - accuracy: 0.9371 - val_loss: 0.1640 - val_accuracy: 0.9420\n",
      "Epoch 4/5\n",
      "289/289 [==============================] - 54s 185ms/step - loss: 0.1323 - accuracy: 0.9516 - val_loss: 0.1677 - val_accuracy: 0.9407\n",
      "Epoch 5/5\n",
      "289/289 [==============================] - 54s 186ms/step - loss: 0.1128 - accuracy: 0.9563 - val_loss: 0.1863 - val_accuracy: 0.9368\n"
     ]
    }
   ],
   "source": [
    "history = model.fit(padded_sequence,sentiment_label[0],validation_split=0.2, epochs=5, batch_size=32)"
   ]
  },
  {
   "cell_type": "markdown",
   "id": "c9233fdf-9aa4-445d-bcdd-6205ff8b574b",
   "metadata": {},
   "source": [
    "#### The python sentiment analysis model has obtained:\n",
    "- 95.563% accuracy on the training set\n",
    "- 93.68% accuracy on the training set\n",
    "\n",
    "Since both are >90%, it can be assumed that the model is quite precise in its analysis."
   ]
  },
  {
   "cell_type": "code",
   "execution_count": 46,
   "id": "86ed59ea-7007-43f8-9920-f9e1da804caf",
   "metadata": {},
   "outputs": [
    {
     "data": {
      "image/png": "[encoded data removed]",
      "text/plain": [
       "<Figure size 432x288 with 1 Axes>"
      ]
     },
     "metadata": {
      "needs_background": "light"
     },
     "output_type": "display_data"
    },
    {
     "data": {
      "text/plain": [
       "<Figure size 432x288 with 0 Axes>"
      ]
     },
     "metadata": {},
     "output_type": "display_data"
    }
   ],
   "source": [
    "# Plot the results as a graph\n",
    "plt.plot(history.history['accuracy'], label='acc')\n",
    "plt.plot(history.history['val_accuracy'], label='val_acc')\n",
    "plt.legend()\n",
    "plt.show()\n",
    "\n",
    "plt.savefig(\"Accuracy plot.jpg\")"
   ]
  },
  {
   "cell_type": "code",
   "execution_count": 47,
   "id": "c7099813-9f06-4dd1-a52a-96a094bd8aa6",
   "metadata": {},
   "outputs": [
    {
     "data": {
      "image/png": "[encoded data removed]",
      "text/plain": [
       "<Figure size 432x288 with 1 Axes>"
      ]
     },
     "metadata": {
      "needs_background": "light"
     },
     "output_type": "display_data"
    },
    {
     "data": {
      "text/plain": [
       "<Figure size 432x288 with 0 Axes>"
      ]
     },
     "metadata": {},
     "output_type": "display_data"
    }
   ],
   "source": [
    "plt.plot(history.history['loss'], label='loss')\n",
    "plt.plot(history.history['val_loss'], label='val_loss')\n",
    "\n",
    "plt.legend()\n",
    "plt.show()\n",
    "\n",
    "plt.savefig(\"Loss plt.jpg\")"
   ]
  },
  {
   "cell_type": "markdown",
   "id": "36d21996-8a69-459d-995f-bf0fe64c2aa9",
   "metadata": {},
   "source": [
    "#### Defining a function to test text input"
   ]
  },
  {
   "cell_type": "code",
   "execution_count": 48,
   "id": "11931830-1a07-40a1-8989-cd786d72a044",
   "metadata": {},
   "outputs": [],
   "source": [
    "def predict_sentiment(text):\n",
    "    tw = tokenizer.texts_to_sequences([text])\n",
    "    tw = pad_sequences(tw,maxlen=200)\n",
    "    prediction = int(model.predict(tw).round().item())\n",
    "    print(\"Predicted label: \", sentiment_label[1][prediction])"
   ]
  },
  {
   "cell_type": "code",
   "execution_count": 49,
   "id": "237830b5-84d4-44dd-8db6-e590acf1e4d1",
   "metadata": {},
   "outputs": [
    {
     "name": "stdout",
     "output_type": "stream",
     "text": [
      "Predicted label:  positive\n"
     ]
    }
   ],
   "source": [
    "# test some samples out\n",
    "test_sentence1 = \"I have enjoyed my journey on this flight.\"\n",
    "predict_sentiment(test_sentence1)"
   ]
  },
  {
   "cell_type": "code",
   "execution_count": 50,
   "id": "80b4c3f4-2125-4052-a869-8ad817035ef6",
   "metadata": {},
   "outputs": [
    {
     "name": "stdout",
     "output_type": "stream",
     "text": [
      "Predicted label:  negative\n"
     ]
    }
   ],
   "source": [
    "test_sentence2 = \"This is the worst flight experience of my life!\"\n",
    "predict_sentiment(test_sentence2)"
   ]
  },
  {
   "cell_type": "markdown",
   "id": "cea5a7e6-6d72-4935-b185-acbbdb25ee8e",
   "metadata": {},
   "source": [
    "#### User Input Option:"
   ]
  },
  {
   "cell_type": "code",
   "execution_count": 51,
   "id": "7789b3f7-1b56-44fd-b299-ca98ecf28d2a",
   "metadata": {},
   "outputs": [
    {
     "name": "stdin",
     "output_type": "stream",
     "text": [
      "Enter the Test String for Analysis:  This flight was horrendously bad!!!\n"
     ]
    },
    {
     "name": "stdout",
     "output_type": "stream",
     "text": [
      "Predicted label:  negative\n"
     ]
    }
   ],
   "source": [
    "test_str = input(\"Enter the Test String for Analysis: \")\n",
    "predict_sentiment(test_str)"
   ]
  },
  {
   "cell_type": "markdown",
   "id": "86927994-09bc-4983-bfc9-a9e94ea6cd03",
   "metadata": {},
   "source": [
    "## Summary:"
   ]
  },
  {
   "cell_type": "markdown",
   "id": "09e35797-cc1b-47ef-870b-c4455fc66775",
   "metadata": {},
   "source": [
    "A python3 sentiment analysis model has been developed. In this machine learning project, a binary text classifier has been coded that classifies the sentiment of the tweets into positive and negative. More than 94% accuracy has been obtained on validation.\n",
    "\n",
    "This project helps businesses across the domains to understand customers sentiment or feeling towards their brands."
   ]
  },
  {
   "cell_type": "code",
   "execution_count": null,
   "id": "378a2672-dcdf-4216-b17c-d1ac5fe611be",
   "metadata": {},
   "outputs": [],
   "source": []
  }
 ],
 "metadata": {
  "kernelspec": {
   "display_name": "Python 3 (ipykernel)",
   "language": "python",
   "name": "python3"
  },
  "language_info": {
   "codemirror_mode": {
    "name": "ipython",
    "version": 3
   },
   "file_extension": ".py",
   "mimetype": "text/x-python",
   "name": "python",
   "nbconvert_exporter": "python",
   "pygments_lexer": "ipython3",
   "version": "3.9.6"
  }
 },
 "nbformat": 4,
 "nbformat_minor": 5
}
